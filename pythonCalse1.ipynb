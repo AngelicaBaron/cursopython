{
  "nbformat": 4,
  "nbformat_minor": 0,
  "metadata": {
    "colab": {
      "provenance": [],
      "authorship_tag": "ABX9TyOE9EQpo5jFX/de9b1804rq",
      "include_colab_link": true
    },
    "kernelspec": {
      "name": "python3",
      "display_name": "Python 3"
    },
    "language_info": {
      "name": "python"
    }
  },
  "cells": [
    {
      "cell_type": "markdown",
      "metadata": {
        "id": "view-in-github",
        "colab_type": "text"
      },
      "source": [
        "<a href=\"https://colab.research.google.com/github/AngelicaBaron/cursopython/blob/main/pythonCalse1.ipynb\" target=\"_parent\"><img src=\"https://colab.research.google.com/assets/colab-badge.svg\" alt=\"Open In Colab\"/></a>"
      ]
    },
    {
      "cell_type": "code",
      "execution_count": null,
      "metadata": {
        "colab": {
          "base_uri": "https://localhost:8080/"
        },
        "id": "hmOXur0h6mYt",
        "outputId": "a2fb20fa-0fcd-424c-c83f-9405e6f15e26"
      },
      "outputs": [
        {
          "output_type": "stream",
          "name": "stdout",
          "text": [
            "hola mundo\n"
          ]
        }
      ],
      "source": [
        "print(\"hola mundo\")"
      ]
    },
    {
      "cell_type": "code",
      "source": [
        "numero = 3\n",
        "print(type(numero))\n",
        "Cadena_De_Texto = \"hola mundo\"\n",
        "CADENA = \"hola\"\n",
        "numero = 3\n",
        "\n",
        "print(Cadena_De_Texto)\n",
        "print(type(numero))\n",
        "\n",
        "numero1 = 10\n",
        "numero2 = 40\n",
        "\n",
        "suma=numero1 + numero2\n",
        "print(suma)\n",
        "\n",
        "#operaciones aritmeticas basicas\n",
        "resta = numero1 - numero2\n",
        "multi = numero1 * numero2\n",
        "division = numero1/numero2\n",
        "\n",
        "print(resta)\n",
        "print(multi)\n",
        "print(division)\n",
        "\n",
        "print(\"la division de los dos numeros es:  \"+ str(division))\n"
      ],
      "metadata": {
        "colab": {
          "base_uri": "https://localhost:8080/"
        },
        "id": "SFYqSqIZCMqk",
        "outputId": "207dd85b-f144-4cd4-c9a1-58d34de63fd7"
      },
      "execution_count": null,
      "outputs": [
        {
          "output_type": "stream",
          "name": "stdout",
          "text": [
            "<class 'int'>\n",
            "hola mundo\n",
            "<class 'int'>\n",
            "50\n",
            "-30\n",
            "400\n",
            "0.25\n",
            "la division de los dos numeros es:  0.25\n"
          ]
        }
      ]
    },
    {
      "cell_type": "code",
      "source": [],
      "metadata": {
        "id": "wom7TOo4f1zw"
      },
      "execution_count": null,
      "outputs": []
    },
    {
      "cell_type": "markdown",
      "source": [],
      "metadata": {
        "id": "tzvcZ-mwftO9"
      }
    },
    {
      "cell_type": "code",
      "source": [
        "el_agua_es_cristalina = True\n",
        "el_agua_es_negra = False\n",
        "print(type(el_agua_es_cristalina))\n",
        "print(el_agua_es_cristalina)\n",
        "print(el_agua_es_negra)\n",
        "\n",
        "listas = [numero, numero1, numero2, el_agua_es_cristalina, CADENA]\n",
        "primer_elemento_lista = listas[0]\n",
        "print(listas[2])\n",
        "listas[2]= (\"texto\")\n",
        "\n",
        "\n",
        "tupla = (numero, numero2)\n",
        "print(tupla)\n",
        "\n",
        "diccionario = {'elemento 1':numero,'elemento 2':numero2}"
      ],
      "metadata": {
        "colab": {
          "base_uri": "https://localhost:8080/"
        },
        "id": "zG4wMuRFDiov",
        "outputId": "1557398f-58d8-4777-d6dc-d1b90d861ded"
      },
      "execution_count": null,
      "outputs": [
        {
          "output_type": "stream",
          "name": "stdout",
          "text": [
            "<class 'bool'>\n",
            "True\n",
            "False\n",
            "40\n",
            "(3, 40)\n"
          ]
        }
      ]
    },
    {
      "cell_type": "code",
      "source": [
        "entrada1 = input(\"ingrese un nùmero: \")\n",
        "entrada2 = input( \"ingrese un segundo \")\n",
        "\n",
        "print(\"El primer numero ingresado es \"+str(entrada1))\n",
        "print(\"el segundo numero ingresado es \" +entrada2)\n",
        "\n",
        "n_entrada1 = float(entrada1)\n",
        "n_entrada2 = float(entrada2)\n",
        "suma = n_entrada1 + n_entrada2\n",
        "print(\"la suma de los numeros es: \"+str(suma))\n",
        "print(type(n_entrada1))\n"
      ],
      "metadata": {
        "colab": {
          "base_uri": "https://localhost:8080/"
        },
        "id": "mmV0AJc7LRv3",
        "outputId": "b8dd9c7c-9282-4d98-e3dc-a21573b35f7d"
      },
      "execution_count": null,
      "outputs": [
        {
          "output_type": "stream",
          "name": "stdout",
          "text": [
            "ingrese un nùmero: 2\n",
            "ingrese un segundo 3\n",
            "El primer numero ingresado es 2\n",
            "el segundo numero ingresado es 3\n",
            "la suma de los numeros es: 5.0\n",
            "<class 'float'>\n"
          ]
        }
      ]
    }
  ]
}